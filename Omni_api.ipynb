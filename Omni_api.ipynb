{
 "cells": [
  {
   "cell_type": "markdown",
   "id": "67007ce7",
   "metadata": {},
   "source": [
    "pip install requests"
   ]
  },
  {
   "cell_type": "code",
   "execution_count": 1,
   "id": "0ac4dc33",
   "metadata": {},
   "outputs": [],
   "source": [
    "import requests\n",
    "from requests.auth import HTTPBasicAuth\n",
    "import datetime\n",
    "\n",
    "import numpy as np\n",
    "import pandas as pd\n",
    "import json\n",
    "\n",
    "import warnings\n",
    "#warnings.filterwarnings(\"ignore\")\n",
    "\n",
    "from pandas.io.json import json_normalize"
   ]
  },
  {
   "cell_type": "markdown",
   "id": "4adc3be0",
   "metadata": {},
   "source": [
    "## Скрипт для обращения к Omnidesk API"
   ]
  },
  {
   "cell_type": "code",
   "execution_count": 2,
   "id": "5aa71be4",
   "metadata": {},
   "outputs": [],
   "source": [
    "class OmnideskAPI:\n",
    "    def __init__(self, sub_domain, domain, email, api_key):\n",
    "        self.host = 'https://' + sub_domain + '.' + domain\n",
    "        self.auth = HTTPBasicAuth(email, api_key)\n",
    "\n",
    "    def send_request(self, method, endpoint, case_id=None,  params=None):\n",
    "        \"\"\"\n",
    "        method: get или post\n",
    "        endpoint: cases, filters, case, staff, messages\n",
    "        case_id=None: Испльзуется в case или messages\n",
    "        \"\"\"\n",
    "        ENDPOINTS = {\n",
    "            'cases': 'cases.json',\n",
    "            'filters': 'filters.json',\n",
    "            'case': 'cases/' + str(id) + '.json',\n",
    "            'staff': 'staff.json',\n",
    "            'messages': 'cases/' + str(case_id) + '/messages.json'\n",
    "        }\n",
    "        #print(self.host + ENDPOINTS[endpoint])\n",
    "        if method == 'get':\n",
    "            result = requests.get(url=self.host + ENDPOINTS[endpoint], params=params, auth=self.auth).json()\n",
    "        elif method == 'post':\n",
    "            result = requests.post(self.host + ENDPOINTS[endpoint], params=params, auth=self.auth).json()\n",
    "        else:\n",
    "            result = ''\n",
    "        return result"
   ]
  },
  {
   "cell_type": "markdown",
   "id": "23a48847",
   "metadata": {},
   "source": [
    "## Параметры для API"
   ]
  },
  {
   "cell_type": "code",
   "execution_count": 3,
   "id": "6244288a",
   "metadata": {
    "scrolled": true
   },
   "outputs": [],
   "source": [
    "omnidesk_config = {\n",
    "    \"sub_domain\": \"vudeba10\",\n",
    "    \"domain\": \"omnidesk.ru/api/\",\n",
    "    \"email\": \"myuferov@gmail.com\",\n",
    "    \"api_key\": \"eebb542a4fb257eebc2779d0d\"\n",
    "}\n",
    "params = {\n",
    "    'from_time' : datetime.date(2021,5,27)\n",
    "}"
   ]
  },
  {
   "cell_type": "markdown",
   "id": "5e148a78",
   "metadata": {},
   "source": [
    "## Получение списка обращений и преобразование его в Dataframe "
   ]
  },
  {
   "cell_type": "code",
   "execution_count": 4,
   "id": "80b2a671",
   "metadata": {},
   "outputs": [
    {
     "name": "stderr",
     "output_type": "stream",
     "text": [
      "<ipython-input-4-ea21103c7ccf>:6: FutureWarning: pandas.io.json.json_normalize is deprecated, use pandas.json_normalize instead\n",
      "  data_case=pd.concat([data_case, json_normalize(staff[str(i)]['case'])] , ignore_index=True)\n"
     ]
    },
    {
     "data": {
      "text/html": [
       "<div>\n",
       "<style scoped>\n",
       "    .dataframe tbody tr th:only-of-type {\n",
       "        vertical-align: middle;\n",
       "    }\n",
       "\n",
       "    .dataframe tbody tr th {\n",
       "        vertical-align: top;\n",
       "    }\n",
       "\n",
       "    .dataframe thead th {\n",
       "        text-align: right;\n",
       "    }\n",
       "</style>\n",
       "<table border=\"1\" class=\"dataframe\">\n",
       "  <thead>\n",
       "    <tr style=\"text-align: right;\">\n",
       "      <th></th>\n",
       "      <th>case_id</th>\n",
       "      <th>user_id</th>\n",
       "      <th>staff_id</th>\n",
       "      <th>created_at</th>\n",
       "    </tr>\n",
       "  </thead>\n",
       "  <tbody>\n",
       "    <tr>\n",
       "      <th>0</th>\n",
       "      <td>169278691</td>\n",
       "      <td>23351208</td>\n",
       "      <td>29386</td>\n",
       "      <td>Thu, 27 May 2021 12:20:22 +0300</td>\n",
       "    </tr>\n",
       "    <tr>\n",
       "      <th>1</th>\n",
       "      <td>169278689</td>\n",
       "      <td>23351208</td>\n",
       "      <td>29386</td>\n",
       "      <td>Thu, 27 May 2021 12:20:21 +0300</td>\n",
       "    </tr>\n",
       "    <tr>\n",
       "      <th>2</th>\n",
       "      <td>169278687</td>\n",
       "      <td>23351208</td>\n",
       "      <td>29386</td>\n",
       "      <td>Thu, 27 May 2021 12:20:20 +0300</td>\n",
       "    </tr>\n",
       "    <tr>\n",
       "      <th>3</th>\n",
       "      <td>169278686</td>\n",
       "      <td>23351208</td>\n",
       "      <td>29386</td>\n",
       "      <td>Thu, 27 May 2021 12:20:01 +0300</td>\n",
       "    </tr>\n",
       "  </tbody>\n",
       "</table>\n",
       "</div>"
      ],
      "text/plain": [
       "     case_id   user_id  staff_id                       created_at\n",
       "0  169278691  23351208     29386  Thu, 27 May 2021 12:20:22 +0300\n",
       "1  169278689  23351208     29386  Thu, 27 May 2021 12:20:21 +0300\n",
       "2  169278687  23351208     29386  Thu, 27 May 2021 12:20:20 +0300\n",
       "3  169278686  23351208     29386  Thu, 27 May 2021 12:20:01 +0300"
      ]
     },
     "execution_count": 4,
     "metadata": {},
     "output_type": "execute_result"
    }
   ],
   "source": [
    "omnidesk = OmnideskAPI(**omnidesk_config)\n",
    "staff = omnidesk.send_request(\"get\", \"cases\", params=params)\n",
    "\n",
    "data_case = pd.DataFrame()\n",
    "for i in range(0, staff['total_count']):\n",
    "    data_case=pd.concat([data_case, json_normalize(staff[str(i)]['case'])] , ignore_index=True)\n",
    "data_case=data_case[['case_id','user_id','staff_id','created_at']]\n",
    "data_case_id=data_case.case_id.unique()\n",
    "\n",
    "data_case\n",
    "#staff"
   ]
  },
  {
   "cell_type": "markdown",
   "id": "3021f03c",
   "metadata": {},
   "source": [
    "## Просмотр ответов и преобразование их в Dataframe"
   ]
  },
  {
   "cell_type": "code",
   "execution_count": 5,
   "id": "056fe8f1",
   "metadata": {},
   "outputs": [
    {
     "name": "stderr",
     "output_type": "stream",
     "text": [
      "<ipython-input-5-4e18898d0c06>:6: FutureWarning: pandas.io.json.json_normalize is deprecated, use pandas.json_normalize instead\n",
      "  data_message=pd.concat([data_message, json_normalize(staff1[str(j)]['message'])] , ignore_index=True)\n"
     ]
    },
    {
     "data": {
      "text/html": [
       "<div>\n",
       "<style scoped>\n",
       "    .dataframe tbody tr th:only-of-type {\n",
       "        vertical-align: middle;\n",
       "    }\n",
       "\n",
       "    .dataframe tbody tr th {\n",
       "        vertical-align: top;\n",
       "    }\n",
       "\n",
       "    .dataframe thead th {\n",
       "        text-align: right;\n",
       "    }\n",
       "</style>\n",
       "<table border=\"1\" class=\"dataframe\">\n",
       "  <thead>\n",
       "    <tr style=\"text-align: right;\">\n",
       "      <th></th>\n",
       "      <th>message_id</th>\n",
       "      <th>content</th>\n",
       "      <th>content_html</th>\n",
       "      <th>case_id</th>\n",
       "    </tr>\n",
       "  </thead>\n",
       "  <tbody>\n",
       "    <tr>\n",
       "      <th>0</th>\n",
       "      <td>0</td>\n",
       "      <td>Your knowledgebase is currently filled with sa...</td>\n",
       "      <td></td>\n",
       "      <td>169278691</td>\n",
       "    </tr>\n",
       "    <tr>\n",
       "      <th>1</th>\n",
       "      <td>0</td>\n",
       "      <td>Connect your company's Facebook page to suppor...</td>\n",
       "      <td></td>\n",
       "      <td>169278689</td>\n",
       "    </tr>\n",
       "    <tr>\n",
       "      <th>2</th>\n",
       "      <td>0</td>\n",
       "      <td>Connect your company's Twitter account to supp...</td>\n",
       "      <td></td>\n",
       "      <td>169278687</td>\n",
       "    </tr>\n",
       "    <tr>\n",
       "      <th>3</th>\n",
       "      <td>232064593</td>\n",
       "      <td>Здравствуйте!\\n\\nРад приветствовать вас на Омн...</td>\n",
       "      <td></td>\n",
       "      <td>169278686</td>\n",
       "    </tr>\n",
       "  </tbody>\n",
       "</table>\n",
       "</div>"
      ],
      "text/plain": [
       "   message_id                                            content content_html  \\\n",
       "0           0  Your knowledgebase is currently filled with sa...                \n",
       "1           0  Connect your company's Facebook page to suppor...                \n",
       "2           0  Connect your company's Twitter account to supp...                \n",
       "3   232064593  Здравствуйте!\\n\\nРад приветствовать вас на Омн...                \n",
       "\n",
       "     case_id  \n",
       "0  169278691  \n",
       "1  169278689  \n",
       "2  169278687  \n",
       "3  169278686  "
      ]
     },
     "execution_count": 5,
     "metadata": {},
     "output_type": "execute_result"
    }
   ],
   "source": [
    "data_message = pd.DataFrame()\n",
    "s=[]\n",
    "for i in data_case_id:\n",
    "    staff1 = omnidesk.send_request(\"get\", \"messages\",case_id=i)\n",
    "    for j in range(0, staff1['total_count']):\n",
    "        data_message=pd.concat([data_message, json_normalize(staff1[str(j)]['message'])] , ignore_index=True)\n",
    "        s.append(i)\n",
    "data_message=data_message[['message_id','content','content_html']]\n",
    "data_message['case_id']=s\n",
    "\n",
    "data_message"
   ]
  },
  {
   "cell_type": "markdown",
   "id": "45b8f135",
   "metadata": {},
   "source": [
    "## Объединение Dataframe списка обращений и ответов "
   ]
  },
  {
   "cell_type": "code",
   "execution_count": 6,
   "id": "dd7712b1",
   "metadata": {},
   "outputs": [
    {
     "data": {
      "text/html": [
       "<div>\n",
       "<style scoped>\n",
       "    .dataframe tbody tr th:only-of-type {\n",
       "        vertical-align: middle;\n",
       "    }\n",
       "\n",
       "    .dataframe tbody tr th {\n",
       "        vertical-align: top;\n",
       "    }\n",
       "\n",
       "    .dataframe thead th {\n",
       "        text-align: right;\n",
       "    }\n",
       "</style>\n",
       "<table border=\"1\" class=\"dataframe\">\n",
       "  <thead>\n",
       "    <tr style=\"text-align: right;\">\n",
       "      <th></th>\n",
       "      <th>user_id</th>\n",
       "      <th>staff_id</th>\n",
       "      <th>created_at</th>\n",
       "      <th>message_id</th>\n",
       "      <th>content</th>\n",
       "    </tr>\n",
       "    <tr>\n",
       "      <th>case_id</th>\n",
       "      <th></th>\n",
       "      <th></th>\n",
       "      <th></th>\n",
       "      <th></th>\n",
       "      <th></th>\n",
       "    </tr>\n",
       "  </thead>\n",
       "  <tbody>\n",
       "    <tr>\n",
       "      <th>169278691</th>\n",
       "      <td>23351208</td>\n",
       "      <td>29386</td>\n",
       "      <td>Thu, 27 May 2021 12:20:22 +0300</td>\n",
       "      <td>0</td>\n",
       "      <td>Your knowledgebase is currently filled with sa...</td>\n",
       "    </tr>\n",
       "    <tr>\n",
       "      <th>169278689</th>\n",
       "      <td>23351208</td>\n",
       "      <td>29386</td>\n",
       "      <td>Thu, 27 May 2021 12:20:21 +0300</td>\n",
       "      <td>0</td>\n",
       "      <td>Connect your company's Facebook page to suppor...</td>\n",
       "    </tr>\n",
       "    <tr>\n",
       "      <th>169278687</th>\n",
       "      <td>23351208</td>\n",
       "      <td>29386</td>\n",
       "      <td>Thu, 27 May 2021 12:20:20 +0300</td>\n",
       "      <td>0</td>\n",
       "      <td>Connect your company's Twitter account to supp...</td>\n",
       "    </tr>\n",
       "    <tr>\n",
       "      <th>169278686</th>\n",
       "      <td>23351208</td>\n",
       "      <td>29386</td>\n",
       "      <td>Thu, 27 May 2021 12:20:01 +0300</td>\n",
       "      <td>232064593</td>\n",
       "      <td>Здравствуйте!\\n\\nРад приветствовать вас на Омн...</td>\n",
       "    </tr>\n",
       "  </tbody>\n",
       "</table>\n",
       "</div>"
      ],
      "text/plain": [
       "            user_id  staff_id                       created_at  message_id  \\\n",
       "case_id                                                                      \n",
       "169278691  23351208     29386  Thu, 27 May 2021 12:20:22 +0300           0   \n",
       "169278689  23351208     29386  Thu, 27 May 2021 12:20:21 +0300           0   \n",
       "169278687  23351208     29386  Thu, 27 May 2021 12:20:20 +0300           0   \n",
       "169278686  23351208     29386  Thu, 27 May 2021 12:20:01 +0300   232064593   \n",
       "\n",
       "                                                     content  \n",
       "case_id                                                       \n",
       "169278691  Your knowledgebase is currently filled with sa...  \n",
       "169278689  Connect your company's Facebook page to suppor...  \n",
       "169278687  Connect your company's Twitter account to supp...  \n",
       "169278686  Здравствуйте!\\n\\nРад приветствовать вас на Омн...  "
      ]
     },
     "execution_count": 6,
     "metadata": {},
     "output_type": "execute_result"
    }
   ],
   "source": [
    "data=data_case.set_index('case_id').join(data_message.set_index('case_id'))\n",
    "\n",
    "#замена пропусков NAN значениями. И удаление столбцов 'content' или 'content_html' если они полностью пустые\n",
    "data.replace('', np.nan, inplace=True)\n",
    "data.dropna(axis=1,how='all', inplace=True)\n",
    "\n",
    "data"
   ]
  },
  {
   "cell_type": "code",
   "execution_count": null,
   "id": "b2e68528",
   "metadata": {},
   "outputs": [],
   "source": []
  }
 ],
 "metadata": {
  "kernelspec": {
   "display_name": "Python 3",
   "language": "python",
   "name": "python3"
  },
  "language_info": {
   "codemirror_mode": {
    "name": "ipython",
    "version": 3
   },
   "file_extension": ".py",
   "mimetype": "text/x-python",
   "name": "python",
   "nbconvert_exporter": "python",
   "pygments_lexer": "ipython3",
   "version": "3.8.8"
  }
 },
 "nbformat": 4,
 "nbformat_minor": 5
}
